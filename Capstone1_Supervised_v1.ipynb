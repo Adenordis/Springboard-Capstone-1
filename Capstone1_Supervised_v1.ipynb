{
 "cells": [
  {
   "cell_type": "code",
   "execution_count": 15,
   "metadata": {},
   "outputs": [],
   "source": [
    "import pandas as pd\n",
    "from matplotlib import pyplot as plt\n",
    "import seaborn as sns\n",
    "import numpy as np"
   ]
  },
  {
   "cell_type": "code",
   "execution_count": 16,
   "metadata": {},
   "outputs": [
    {
     "data": {
      "text/html": [
       "<div>\n",
       "<style scoped>\n",
       "    .dataframe tbody tr th:only-of-type {\n",
       "        vertical-align: middle;\n",
       "    }\n",
       "\n",
       "    .dataframe tbody tr th {\n",
       "        vertical-align: top;\n",
       "    }\n",
       "\n",
       "    .dataframe thead th {\n",
       "        text-align: right;\n",
       "    }\n",
       "</style>\n",
       "<table border=\"1\" class=\"dataframe\">\n",
       "  <thead>\n",
       "    <tr style=\"text-align: right;\">\n",
       "      <th></th>\n",
       "      <th>Genotype</th>\n",
       "      <th>Behavior</th>\n",
       "      <th>Treatment</th>\n",
       "      <th>class</th>\n",
       "      <th>Mouse</th>\n",
       "      <th>DYRK1A_N</th>\n",
       "      <th>ITSN1_N</th>\n",
       "      <th>BDNF_N</th>\n",
       "      <th>NR1_N</th>\n",
       "      <th>NR2A_N</th>\n",
       "      <th>...</th>\n",
       "      <th>pGSK3B_Tyr216_N</th>\n",
       "      <th>SHH_N</th>\n",
       "      <th>BAD_N</th>\n",
       "      <th>BCL2_N</th>\n",
       "      <th>pCFOS_N</th>\n",
       "      <th>SYP_N</th>\n",
       "      <th>H3AcK18_N</th>\n",
       "      <th>EGR1_N</th>\n",
       "      <th>H3MeK4_N</th>\n",
       "      <th>CaNA_N</th>\n",
       "    </tr>\n",
       "  </thead>\n",
       "  <tbody>\n",
       "    <tr>\n",
       "      <th>0</th>\n",
       "      <td>Control</td>\n",
       "      <td>Learning</td>\n",
       "      <td>Memantine</td>\n",
       "      <td>c-CS-m</td>\n",
       "      <td>309</td>\n",
       "      <td>0.416923</td>\n",
       "      <td>0.564036</td>\n",
       "      <td>0.355124</td>\n",
       "      <td>2.260135</td>\n",
       "      <td>4.268735</td>\n",
       "      <td>...</td>\n",
       "      <td>0.833277</td>\n",
       "      <td>0.191561</td>\n",
       "      <td>0.141013</td>\n",
       "      <td>NaN</td>\n",
       "      <td>0.111483</td>\n",
       "      <td>0.434154</td>\n",
       "      <td>0.130405</td>\n",
       "      <td>0.155612</td>\n",
       "      <td>0.158235</td>\n",
       "      <td>1.675652</td>\n",
       "    </tr>\n",
       "    <tr>\n",
       "      <th>1</th>\n",
       "      <td>Control</td>\n",
       "      <td>Learning</td>\n",
       "      <td>Memantine</td>\n",
       "      <td>c-CS-m</td>\n",
       "      <td>311</td>\n",
       "      <td>0.591572</td>\n",
       "      <td>0.690271</td>\n",
       "      <td>0.320853</td>\n",
       "      <td>2.285938</td>\n",
       "      <td>4.229412</td>\n",
       "      <td>...</td>\n",
       "      <td>0.679241</td>\n",
       "      <td>0.181889</td>\n",
       "      <td>0.167400</td>\n",
       "      <td>0.168637</td>\n",
       "      <td>NaN</td>\n",
       "      <td>0.430309</td>\n",
       "      <td>0.147208</td>\n",
       "      <td>0.215089</td>\n",
       "      <td>0.197067</td>\n",
       "      <td>1.219966</td>\n",
       "    </tr>\n",
       "    <tr>\n",
       "      <th>2</th>\n",
       "      <td>Control</td>\n",
       "      <td>Learning</td>\n",
       "      <td>Memantine</td>\n",
       "      <td>c-CS-m</td>\n",
       "      <td>320</td>\n",
       "      <td>0.530855</td>\n",
       "      <td>0.748072</td>\n",
       "      <td>0.385529</td>\n",
       "      <td>2.606780</td>\n",
       "      <td>5.601210</td>\n",
       "      <td>...</td>\n",
       "      <td>0.854093</td>\n",
       "      <td>0.220316</td>\n",
       "      <td>0.161053</td>\n",
       "      <td>0.136110</td>\n",
       "      <td>0.123425</td>\n",
       "      <td>0.534845</td>\n",
       "      <td>0.143169</td>\n",
       "      <td>0.180373</td>\n",
       "      <td>NaN</td>\n",
       "      <td>1.638988</td>\n",
       "    </tr>\n",
       "    <tr>\n",
       "      <th>3</th>\n",
       "      <td>Control</td>\n",
       "      <td>Learning</td>\n",
       "      <td>Memantine</td>\n",
       "      <td>c-CS-m</td>\n",
       "      <td>321</td>\n",
       "      <td>0.420542</td>\n",
       "      <td>0.640420</td>\n",
       "      <td>0.357512</td>\n",
       "      <td>2.731909</td>\n",
       "      <td>5.468987</td>\n",
       "      <td>...</td>\n",
       "      <td>0.922769</td>\n",
       "      <td>0.234360</td>\n",
       "      <td>NaN</td>\n",
       "      <td>0.160967</td>\n",
       "      <td>NaN</td>\n",
       "      <td>0.561673</td>\n",
       "      <td>0.152119</td>\n",
       "      <td>0.214380</td>\n",
       "      <td>NaN</td>\n",
       "      <td>1.682427</td>\n",
       "    </tr>\n",
       "    <tr>\n",
       "      <th>4</th>\n",
       "      <td>Control</td>\n",
       "      <td>Learning</td>\n",
       "      <td>Memantine</td>\n",
       "      <td>c-CS-m</td>\n",
       "      <td>322</td>\n",
       "      <td>0.356514</td>\n",
       "      <td>0.500887</td>\n",
       "      <td>0.316709</td>\n",
       "      <td>2.062867</td>\n",
       "      <td>4.128476</td>\n",
       "      <td>...</td>\n",
       "      <td>0.829548</td>\n",
       "      <td>0.239625</td>\n",
       "      <td>NaN</td>\n",
       "      <td>0.150934</td>\n",
       "      <td>0.140960</td>\n",
       "      <td>0.494885</td>\n",
       "      <td>NaN</td>\n",
       "      <td>NaN</td>\n",
       "      <td>NaN</td>\n",
       "      <td>1.614975</td>\n",
       "    </tr>\n",
       "  </tbody>\n",
       "</table>\n",
       "<p>5 rows × 81 columns</p>\n",
       "</div>"
      ],
      "text/plain": [
       "  Genotype  Behavior  Treatment   class Mouse  DYRK1A_N   ITSN1_N    BDNF_N  \\\n",
       "0  Control  Learning  Memantine  c-CS-m   309  0.416923  0.564036  0.355124   \n",
       "1  Control  Learning  Memantine  c-CS-m   311  0.591572  0.690271  0.320853   \n",
       "2  Control  Learning  Memantine  c-CS-m   320  0.530855  0.748072  0.385529   \n",
       "3  Control  Learning  Memantine  c-CS-m   321  0.420542  0.640420  0.357512   \n",
       "4  Control  Learning  Memantine  c-CS-m   322  0.356514  0.500887  0.316709   \n",
       "\n",
       "      NR1_N    NR2A_N  ...  pGSK3B_Tyr216_N     SHH_N     BAD_N    BCL2_N  \\\n",
       "0  2.260135  4.268735  ...         0.833277  0.191561  0.141013       NaN   \n",
       "1  2.285938  4.229412  ...         0.679241  0.181889  0.167400  0.168637   \n",
       "2  2.606780  5.601210  ...         0.854093  0.220316  0.161053  0.136110   \n",
       "3  2.731909  5.468987  ...         0.922769  0.234360       NaN  0.160967   \n",
       "4  2.062867  4.128476  ...         0.829548  0.239625       NaN  0.150934   \n",
       "\n",
       "    pCFOS_N     SYP_N  H3AcK18_N    EGR1_N  H3MeK4_N    CaNA_N  \n",
       "0  0.111483  0.434154   0.130405  0.155612  0.158235  1.675652  \n",
       "1       NaN  0.430309   0.147208  0.215089  0.197067  1.219966  \n",
       "2  0.123425  0.534845   0.143169  0.180373       NaN  1.638988  \n",
       "3       NaN  0.561673   0.152119  0.214380       NaN  1.682427  \n",
       "4  0.140960  0.494885        NaN       NaN       NaN  1.614975  \n",
       "\n",
       "[5 rows x 81 columns]"
      ]
     },
     "execution_count": 16,
     "metadata": {},
     "output_type": "execute_result"
    }
   ],
   "source": [
    "# Loading the cleaned dataset, in which within-mouse outliers have been removed and then the MEDIAN per mouse has been calculated\n",
    "# Outlier biological replicates are still present.  Some mice are missing data for some proteins.\n",
    "# (8/76 proteins are missing at least one data point.)\n",
    "data = pd.read_csv('Data_Cortex_Nuclear_Medians_Clean.csv')\n",
    "data.replace(to_replace={'C/S': 'Learning', 'S/C': 'Control'}, inplace=True)\n",
    "data.head()"
   ]
  },
  {
   "cell_type": "code",
   "execution_count": 17,
   "metadata": {},
   "outputs": [],
   "source": [
    "# identify which columns represent protein names\n",
    "not_a_protein = ['Genotype','Behavior','Treatment','class', 'Mouse']\n",
    "protein_names = data.columns[5:]\n",
    "X_columns = data[protein_names]\n",
    "medians = X_columns.median()\n",
    "X_imputed = X_columns.fillna(medians)\n",
    "y = data['class']"
   ]
  },
  {
   "cell_type": "code",
   "execution_count": 18,
   "metadata": {},
   "outputs": [],
   "source": [
    "from sklearn.model_selection import train_test_split\n",
    "from sklearn.ensemble        import RandomForestClassifier\n",
    "from sklearn.ensemble        import GradientBoostingClassifier\n",
    "from sklearn.metrics         import precision_recall_curve"
   ]
  },
  {
   "cell_type": "code",
   "execution_count": 44,
   "metadata": {},
   "outputs": [],
   "source": [
    "X_train, X_test, y_train, y_test = train_test_split(X_imputed, y, \n",
    "                                                    test_size = 0.2, stratify = y)"
   ]
  },
  {
   "cell_type": "code",
   "execution_count": 45,
   "metadata": {},
   "outputs": [
    {
     "name": "stdout",
     "output_type": "stream",
     "text": [
      "Accuracy on training data: 1.000000\n",
      "Accuracy on test data:     0.600000\n"
     ]
    }
   ],
   "source": [
    "classifier_rf = RandomForestClassifier(criterion = 'gini', max_features = 'sqrt', n_estimators = 1000, \n",
    "                                       max_depth = None, n_jobs = -1, min_samples_leaf = 1)\n",
    "classifier_rf.fit(X_train, y_train)\n",
    "training_accuracy = classifier_rf.score(X_train, y_train)\n",
    "test_accuracy = classifier_rf.score(X_test, y_test)\n",
    "print(\"Accuracy on training data: {:2f}\".format(training_accuracy))\n",
    "print(\"Accuracy on test data:     {:2f}\".format(test_accuracy))"
   ]
  },
  {
   "cell_type": "code",
   "execution_count": 46,
   "metadata": {},
   "outputs": [
    {
     "data": {
      "text/html": [
       "<div>\n",
       "<style scoped>\n",
       "    .dataframe tbody tr th:only-of-type {\n",
       "        vertical-align: middle;\n",
       "    }\n",
       "\n",
       "    .dataframe tbody tr th {\n",
       "        vertical-align: top;\n",
       "    }\n",
       "\n",
       "    .dataframe thead th {\n",
       "        text-align: right;\n",
       "    }\n",
       "</style>\n",
       "<table border=\"1\" class=\"dataframe\">\n",
       "  <thead>\n",
       "    <tr style=\"text-align: right;\">\n",
       "      <th></th>\n",
       "      <th>protein</th>\n",
       "      <th>importance</th>\n",
       "    </tr>\n",
       "  </thead>\n",
       "  <tbody>\n",
       "    <tr>\n",
       "      <th>32</th>\n",
       "      <td>SOD1_N</td>\n",
       "      <td>0.042282</td>\n",
       "    </tr>\n",
       "    <tr>\n",
       "      <th>75</th>\n",
       "      <td>CaNA_N</td>\n",
       "      <td>0.036076</td>\n",
       "    </tr>\n",
       "    <tr>\n",
       "      <th>30</th>\n",
       "      <td>APP_N</td>\n",
       "      <td>0.030962</td>\n",
       "    </tr>\n",
       "    <tr>\n",
       "      <th>19</th>\n",
       "      <td>AKT_N</td>\n",
       "      <td>0.029304</td>\n",
       "    </tr>\n",
       "    <tr>\n",
       "      <th>34</th>\n",
       "      <td>P38_N</td>\n",
       "      <td>0.028256</td>\n",
       "    </tr>\n",
       "    <tr>\n",
       "      <th>53</th>\n",
       "      <td>ARC_N_pS6_N</td>\n",
       "      <td>0.027734</td>\n",
       "    </tr>\n",
       "    <tr>\n",
       "      <th>1</th>\n",
       "      <td>ITSN1_N</td>\n",
       "      <td>0.026261</td>\n",
       "    </tr>\n",
       "    <tr>\n",
       "      <th>48</th>\n",
       "      <td>S6_N</td>\n",
       "      <td>0.022904</td>\n",
       "    </tr>\n",
       "    <tr>\n",
       "      <th>10</th>\n",
       "      <td>pERK_N</td>\n",
       "      <td>0.022480</td>\n",
       "    </tr>\n",
       "    <tr>\n",
       "      <th>55</th>\n",
       "      <td>nNOS_N</td>\n",
       "      <td>0.022295</td>\n",
       "    </tr>\n",
       "  </tbody>\n",
       "</table>\n",
       "</div>"
      ],
      "text/plain": [
       "        protein  importance\n",
       "32       SOD1_N    0.042282\n",
       "75       CaNA_N    0.036076\n",
       "30        APP_N    0.030962\n",
       "19        AKT_N    0.029304\n",
       "34        P38_N    0.028256\n",
       "53  ARC_N_pS6_N    0.027734\n",
       "1       ITSN1_N    0.026261\n",
       "48         S6_N    0.022904\n",
       "10       pERK_N    0.022480\n",
       "55       nNOS_N    0.022295"
      ]
     },
     "execution_count": 46,
     "metadata": {},
     "output_type": "execute_result"
    }
   ],
   "source": [
    "importance_df = pd.DataFrame({'protein': X_columns.columns, \n",
    "                              'importance': classifier_rf.feature_importances_})\n",
    "importance_df.sort_values('importance', ascending = False).head(10)"
   ]
  },
  {
   "cell_type": "code",
   "execution_count": 47,
   "metadata": {},
   "outputs": [
    {
     "name": "stdout",
     "output_type": "stream",
     "text": [
      "Accuracy on training data: 1.000000\n",
      "Accuracy on test data:     0.466667\n"
     ]
    }
   ],
   "source": [
    "classifier_gb = GradientBoostingClassifier()\n",
    "classifier_gb.fit(X_train, y_train)\n",
    "training_accuracy = classifier_gb.score(X_train, y_train)\n",
    "test_accuracy = classifier_gb.score(X_test, y_test)\n",
    "print(\"Accuracy on training data: {:2f}\".format(training_accuracy))\n",
    "print(\"Accuracy on test data:     {:2f}\".format(test_accuracy))"
   ]
  },
  {
   "cell_type": "code",
   "execution_count": 48,
   "metadata": {},
   "outputs": [
    {
     "data": {
      "text/html": [
       "<div>\n",
       "<style scoped>\n",
       "    .dataframe tbody tr th:only-of-type {\n",
       "        vertical-align: middle;\n",
       "    }\n",
       "\n",
       "    .dataframe tbody tr th {\n",
       "        vertical-align: top;\n",
       "    }\n",
       "\n",
       "    .dataframe thead th {\n",
       "        text-align: right;\n",
       "    }\n",
       "</style>\n",
       "<table border=\"1\" class=\"dataframe\">\n",
       "  <thead>\n",
       "    <tr style=\"text-align: right;\">\n",
       "      <th></th>\n",
       "      <th>protein</th>\n",
       "      <th>importance</th>\n",
       "    </tr>\n",
       "  </thead>\n",
       "  <tbody>\n",
       "    <tr>\n",
       "      <th>34</th>\n",
       "      <td>P38_N</td>\n",
       "      <td>0.093183</td>\n",
       "    </tr>\n",
       "    <tr>\n",
       "      <th>19</th>\n",
       "      <td>AKT_N</td>\n",
       "      <td>0.080210</td>\n",
       "    </tr>\n",
       "    <tr>\n",
       "      <th>15</th>\n",
       "      <td>pNR2A_N</td>\n",
       "      <td>0.067286</td>\n",
       "    </tr>\n",
       "    <tr>\n",
       "      <th>35</th>\n",
       "      <td>pMTOR_N</td>\n",
       "      <td>0.062870</td>\n",
       "    </tr>\n",
       "    <tr>\n",
       "      <th>30</th>\n",
       "      <td>APP_N</td>\n",
       "      <td>0.060504</td>\n",
       "    </tr>\n",
       "    <tr>\n",
       "      <th>72</th>\n",
       "      <td>H3AcK18_N</td>\n",
       "      <td>0.060118</td>\n",
       "    </tr>\n",
       "    <tr>\n",
       "      <th>33</th>\n",
       "      <td>MTOR_N</td>\n",
       "      <td>0.055415</td>\n",
       "    </tr>\n",
       "    <tr>\n",
       "      <th>46</th>\n",
       "      <td>pPKCG_N</td>\n",
       "      <td>0.054192</td>\n",
       "    </tr>\n",
       "    <tr>\n",
       "      <th>55</th>\n",
       "      <td>nNOS_N</td>\n",
       "      <td>0.049421</td>\n",
       "    </tr>\n",
       "    <tr>\n",
       "      <th>32</th>\n",
       "      <td>SOD1_N</td>\n",
       "      <td>0.045300</td>\n",
       "    </tr>\n",
       "  </tbody>\n",
       "</table>\n",
       "</div>"
      ],
      "text/plain": [
       "      protein  importance\n",
       "34      P38_N    0.093183\n",
       "19      AKT_N    0.080210\n",
       "15    pNR2A_N    0.067286\n",
       "35    pMTOR_N    0.062870\n",
       "30      APP_N    0.060504\n",
       "72  H3AcK18_N    0.060118\n",
       "33     MTOR_N    0.055415\n",
       "46    pPKCG_N    0.054192\n",
       "55     nNOS_N    0.049421\n",
       "32     SOD1_N    0.045300"
      ]
     },
     "execution_count": 48,
     "metadata": {},
     "output_type": "execute_result"
    }
   ],
   "source": [
    "importance_df = pd.DataFrame({'protein': X_columns.columns, \n",
    "                              'importance': classifier_gb.feature_importances_})\n",
    "importance_df.sort_values('importance', ascending = False).head(10)"
   ]
  },
  {
   "cell_type": "code",
   "execution_count": 49,
   "metadata": {},
   "outputs": [
    {
     "data": {
      "image/png": "[encoded data removed]",
      "text/plain": [
       "<Figure size 432x288 with 1 Axes>"
      ]
     },
     "metadata": {
      "needs_background": "light"
     },
     "output_type": "display_data"
    }
   ],
   "source": [
    "_ = plt.scatter(classifier_rf.feature_importances_, classifier_gb.feature_importances_)\n",
    "for i,txt in enumerate(X_columns.columns):\n",
    "    x_pt = classifier_rf.feature_importances_[i]\n",
    "    y_pt = classifier_gb.feature_importances_[i]\n",
    "    if (x_pt > 0.03) or (y_pt > 0.04):\n",
    "        plt.text(x_pt, y_pt, txt, fontsize=9)"
   ]
  },
  {
   "cell_type": "code",
   "execution_count": 25,
   "metadata": {},
   "outputs": [],
   "source": [
    "raw_data = pd.read_excel('Data_Cortex_Nuclear.xls')\n",
    "data_full = raw_data.join(pd.DataFrame(list(raw_data['MouseID'].str.split('_')),columns = ['Mouse','Rep']))\n",
    "data_full.drop('pS6_N',axis=1, inplace=True)\n",
    "data_full.rename(columns={'ARC_N': 'ARC_N_pS6_N'}, inplace=True)"
   ]
  },
  {
   "cell_type": "code",
   "execution_count": 50,
   "metadata": {},
   "outputs": [
    {
     "data": {
      "text/plain": [
       "(15,)"
      ]
     },
     "execution_count": 50,
     "metadata": {},
     "output_type": "execute_result"
    }
   ],
   "source": [
    "y_test.shape"
   ]
  },
  {
   "cell_type": "code",
   "execution_count": 51,
   "metadata": {},
   "outputs": [
    {
     "data": {
      "text/plain": [
       "(57, 76)"
      ]
     },
     "execution_count": 51,
     "metadata": {},
     "output_type": "execute_result"
    }
   ],
   "source": [
    "X_train.shape"
   ]
  },
  {
   "cell_type": "code",
   "execution_count": 27,
   "metadata": {},
   "outputs": [
    {
     "data": {
      "text/plain": [
       "class\n",
       "c-CS-m    10\n",
       "c-CS-s     9\n",
       "c-SC-m    10\n",
       "c-SC-s     9\n",
       "t-CS-m     9\n",
       "t-CS-s     7\n",
       "t-SC-m     9\n",
       "t-SC-s     9\n",
       "Name: Mouse, dtype: int64"
      ]
     },
     "execution_count": 27,
     "metadata": {},
     "output_type": "execute_result"
    }
   ],
   "source": [
    "data.groupby('class').count()['Mouse']"
   ]
  },
  {
   "cell_type": "code",
   "execution_count": null,
   "metadata": {},
   "outputs": [],
   "source": [
    "y_3_1 = data.class\n",
    "y_2_1 = "
   ]
  }
 ],
 "metadata": {
  "kernelspec": {
   "display_name": "Python 3",
   "language": "python",
   "name": "python3"
  },
  "language_info": {
   "codemirror_mode": {
    "name": "ipython",
    "version": 3
   },
   "file_extension": ".py",
   "mimetype": "text/x-python",
   "name": "python",
   "nbconvert_exporter": "python",
   "pygments_lexer": "ipython3",
   "version": "3.7.3"
  }
 },
 "nbformat": 4,
 "nbformat_minor": 2
}
